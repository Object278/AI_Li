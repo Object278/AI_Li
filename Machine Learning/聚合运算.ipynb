{
 "cells": [
  {
   "cell_type": "code",
   "execution_count": 1,
   "id": "computational-circus",
   "metadata": {},
   "outputs": [],
   "source": [
    "import numpy as np\n",
    "L = np.random.random(100)"
   ]
  },
  {
   "cell_type": "code",
   "execution_count": 2,
   "id": "stable-negotiation",
   "metadata": {},
   "outputs": [
    {
     "data": {
      "text/plain": [
       "array([0.32155253, 0.63083022, 0.29790977, 0.92146638, 0.9015109 ,\n",
       "       0.16248359, 0.58675102, 0.8617998 , 0.27074229, 0.39910036,\n",
       "       0.35126973, 0.97896171, 0.82398932, 0.45828989, 0.46370261,\n",
       "       0.65107888, 0.15035037, 0.40672128, 0.89838399, 0.0745423 ,\n",
       "       0.33580331, 0.93884639, 0.8932451 , 0.59647219, 0.41093381,\n",
       "       0.54993974, 0.44998034, 0.2108066 , 0.29721615, 0.24618475,\n",
       "       0.74439473, 0.29375926, 0.43138468, 0.12993259, 0.9575387 ,\n",
       "       0.57141318, 0.14287433, 0.08114221, 0.44220166, 0.37593382,\n",
       "       0.23486828, 0.13414659, 0.99033065, 0.86858588, 0.40339436,\n",
       "       0.47337069, 0.44854988, 0.7990209 , 0.69870562, 0.1019355 ,\n",
       "       0.54275524, 0.4350609 , 0.22249057, 0.22692897, 0.85724842,\n",
       "       0.08982738, 0.18115034, 0.22686844, 0.92477509, 0.3187902 ,\n",
       "       0.75414072, 0.57486913, 0.11844641, 0.69659348, 0.1490882 ,\n",
       "       0.03301728, 0.61263997, 0.53182729, 0.81792276, 0.63545892,\n",
       "       0.70425595, 0.10942596, 0.27600643, 0.81291324, 0.87417396,\n",
       "       0.99877101, 0.56619478, 0.52092813, 0.71282782, 0.36632336,\n",
       "       0.05524024, 0.24716598, 0.26335378, 0.58524184, 0.98400626,\n",
       "       0.47613173, 0.048095  , 0.13446064, 0.20301183, 0.91248935,\n",
       "       0.32673056, 0.28452787, 0.8091969 , 0.77656682, 0.56743922,\n",
       "       0.47443038, 0.1857662 , 0.90658806, 0.36481455, 0.81292705])"
      ]
     },
     "execution_count": 2,
     "metadata": {},
     "output_type": "execute_result"
    }
   ],
   "source": [
    "L"
   ]
  },
  {
   "cell_type": "code",
   "execution_count": 3,
   "id": "typical-tactics",
   "metadata": {},
   "outputs": [],
   "source": [
    "np.sum?"
   ]
  },
  {
   "cell_type": "code",
   "execution_count": 7,
   "id": "settled-property",
   "metadata": {},
   "outputs": [
    {
     "data": {
      "text/plain": [
       "array([[[ 0,  1,  2],\n",
       "        [ 3,  4,  5],\n",
       "        [ 6,  7,  8]],\n",
       "\n",
       "       [[ 9, 10, 11],\n",
       "        [12, 13, 14],\n",
       "        [15, 16, 17]],\n",
       "\n",
       "       [[18, 19, 20],\n",
       "        [21, 22, 23],\n",
       "        [24, 25, 26]]])"
      ]
     },
     "execution_count": 7,
     "metadata": {},
     "output_type": "execute_result"
    }
   ],
   "source": [
    "X = np.arange(27).reshape(3,3,3)\n",
    "X"
   ]
  },
  {
   "cell_type": "code",
   "execution_count": 8,
   "id": "southeast-rates",
   "metadata": {},
   "outputs": [
    {
     "data": {
      "text/plain": [
       "array([108, 117, 126])"
      ]
     },
     "execution_count": 8,
     "metadata": {},
     "output_type": "execute_result"
    }
   ],
   "source": [
    "np.sum(X,axis=(0,1))"
   ]
  },
  {
   "cell_type": "code",
   "execution_count": null,
   "id": "acknowledged-shield",
   "metadata": {},
   "outputs": [],
   "source": []
  }
 ],
 "metadata": {
  "kernelspec": {
   "display_name": "Python 3",
   "language": "python",
   "name": "python3"
  },
  "language_info": {
   "codemirror_mode": {
    "name": "ipython",
    "version": 3
   },
   "file_extension": ".py",
   "mimetype": "text/x-python",
   "name": "python",
   "nbconvert_exporter": "python",
   "pygments_lexer": "ipython3",
   "version": "3.7.1"
  }
 },
 "nbformat": 4,
 "nbformat_minor": 5
}
