{
 "cells": [
  {
   "cell_type": "code",
   "execution_count": 4,
   "id": "scheduled-helen",
   "metadata": {},
   "outputs": [],
   "source": [
    "import numpy as np\n",
    "import matplotlib.pyplot as plt\n",
    "from sklearn import datasets\n",
    "import copy"
   ]
  },
  {
   "cell_type": "code",
   "execution_count": 2,
   "id": "false-purse",
   "metadata": {},
   "outputs": [],
   "source": [
    "iris = datasets.load_iris()"
   ]
  },
  {
   "cell_type": "code",
   "execution_count": 3,
   "id": "former-pulse",
   "metadata": {},
   "outputs": [],
   "source": [
    "X = iris.data\n",
    "y = iris.target"
   ]
  },
  {
   "cell_type": "code",
   "execution_count": 27,
   "id": "qualified-soccer",
   "metadata": {},
   "outputs": [],
   "source": [
    "#由于y的分类是顺序的，所以直接取出来前120个是不行的\n",
    "#需要先进行打乱顺序\n",
    "#可以只对索引进行乱序处理，或者把X和y融合之后乱序处理\n",
    "X1 = copy.deepcopy(X)\n",
    "y1 = copy.deepcopy(y)\n",
    "X_and_y = np.concatenate((X, y.reshape((-1,1))), axis=1)\n",
    "np.random.shuffle(X_and_y)\n",
    "X_and_y_train = X_and_y[:120]\n",
    "X_and_y_test = X_and_y[120:]\n",
    "X_train1, y_train1 = np.split(X_and_y_train, [4], axis=1)\n",
    "X_test1, y_test1 = np.split(X_and_y_test, [4], axis=1)"
   ]
  },
  {
   "cell_type": "code",
   "execution_count": 30,
   "id": "oriented-reserve",
   "metadata": {},
   "outputs": [],
   "source": [
    "shuffle_indexes = np.random.permutation(len(X))"
   ]
  },
  {
   "cell_type": "code",
   "execution_count": 35,
   "id": "improved-memorabilia",
   "metadata": {},
   "outputs": [],
   "source": [
    "test_ratio = 0.2\n",
    "test_size = int(len(X)*test_ratio)\n",
    "test_indexes = shuffle_indexes[:test_size]\n",
    "train_indexes = shuffle_indexes[test_size:]"
   ]
  },
  {
   "cell_type": "code",
   "execution_count": 37,
   "id": "caroline-alberta",
   "metadata": {},
   "outputs": [],
   "source": [
    "#Fancy Indexing\n",
    "X_train = X[train_indexes]\n",
    "y_train = y[train_indexes]\n",
    "X_test = X[test_indexes]\n",
    "y_test = y[test_indexes]"
   ]
  },
  {
   "cell_type": "code",
   "execution_count": 40,
   "id": "painful-turkish",
   "metadata": {},
   "outputs": [],
   "source": [
    "%run KNN_zekai.ipynb"
   ]
  },
  {
   "cell_type": "code",
   "execution_count": 41,
   "id": "primary-tulsa",
   "metadata": {},
   "outputs": [
    {
     "data": {
      "text/plain": [
       "KNN(k=3)"
      ]
     },
     "execution_count": 41,
     "metadata": {},
     "output_type": "execute_result"
    }
   ],
   "source": [
    "knn_clf = KNNClassifier(k=3)\n",
    "knn_clf.fit(X_train, y_train)"
   ]
  },
  {
   "cell_type": "code",
   "execution_count": 42,
   "id": "average-circumstances",
   "metadata": {},
   "outputs": [],
   "source": [
    "y_predict = knn_clf.predict(X_test)"
   ]
  },
  {
   "cell_type": "code",
   "execution_count": 43,
   "id": "afraid-court",
   "metadata": {},
   "outputs": [
    {
     "data": {
      "text/plain": [
       "array([2, 1, 2, 0, 0, 0, 2, 0, 0, 1, 2, 2, 2, 0, 0, 2, 2, 2, 1, 0, 2, 2,\n",
       "       2, 2, 1, 1, 0, 1, 0, 0])"
      ]
     },
     "execution_count": 43,
     "metadata": {},
     "output_type": "execute_result"
    }
   ],
   "source": [
    "y_predict"
   ]
  },
  {
   "cell_type": "code",
   "execution_count": 47,
   "id": "related-sheffield",
   "metadata": {},
   "outputs": [
    {
     "name": "stdout",
     "output_type": "stream",
     "text": [
      "0.9333333333333333\n"
     ]
    }
   ],
   "source": [
    "accuracy = sum(y_predict == y_test) / test_size\n",
    "print(accuracy)"
   ]
  },
  {
   "cell_type": "code",
   "execution_count": 49,
   "id": "massive-isolation",
   "metadata": {},
   "outputs": [],
   "source": [
    "#sklearn中的train_test_split\n",
    "from sklearn.model_selection import train_test_split\n",
    "train_test_split?"
   ]
  },
  {
   "cell_type": "code",
   "execution_count": null,
   "id": "korean-granny",
   "metadata": {},
   "outputs": [],
   "source": []
  }
 ],
 "metadata": {
  "kernelspec": {
   "display_name": "Python 3",
   "language": "python",
   "name": "python3"
  },
  "language_info": {
   "codemirror_mode": {
    "name": "ipython",
    "version": 3
   },
   "file_extension": ".py",
   "mimetype": "text/x-python",
   "name": "python",
   "nbconvert_exporter": "python",
   "pygments_lexer": "ipython3",
   "version": "3.7.1"
  }
 },
 "nbformat": 4,
 "nbformat_minor": 5
}
