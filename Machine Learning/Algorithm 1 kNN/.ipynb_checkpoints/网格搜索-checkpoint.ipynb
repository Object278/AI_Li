{
 "cells": [
  {
   "cell_type": "markdown",
   "id": "cross-hampshire",
   "metadata": {},
   "source": [
    "###网格搜索"
   ]
  },
  {
   "cell_type": "code",
   "execution_count": 1,
   "id": "brave-insulin",
   "metadata": {},
   "outputs": [],
   "source": [
    "import numpy as np\n",
    "from sklearn import datasets"
   ]
  },
  {
   "cell_type": "code",
   "execution_count": 2,
   "id": "graphic-temperature",
   "metadata": {},
   "outputs": [],
   "source": [
    "digits = datasets.load_digits()\n",
    "X = digits.data\n",
    "y = digits.target"
   ]
  },
  {
   "cell_type": "code",
   "execution_count": 3,
   "id": "convenient-spain",
   "metadata": {},
   "outputs": [],
   "source": [
    "from sklearn.model_selection import train_test_split\n",
    "\n",
    "X_train, X_test, y_train, y_test = train_test_split(X, y, test_size=0.2)"
   ]
  },
  {
   "cell_type": "code",
   "execution_count": 12,
   "id": "great-forum",
   "metadata": {},
   "outputs": [
    {
     "data": {
      "text/plain": [
       "0.9805555555555555"
      ]
     },
     "execution_count": 12,
     "metadata": {},
     "output_type": "execute_result"
    }
   ],
   "source": [
    "from sklearn.neighbors import KNeighborsClassifier\n",
    "sk_knn_clf = KNeighborsClassifier(n_neighbors=4, weights=\"uniform\")\n",
    "sk_knn_clf.fit(X_train, y_train)\n",
    "sk_knn_clf.score(X_test, y_test)"
   ]
  },
  {
   "cell_type": "code",
   "execution_count": 13,
   "id": "horizontal-cutting",
   "metadata": {},
   "outputs": [],
   "source": [
    "#Grind Search"
   ]
  },
  {
   "cell_type": "code",
   "execution_count": null,
   "id": "stone-shift",
   "metadata": {},
   "outputs": [],
   "source": [
    "#一定遵守这个格式\n",
    "#param_grid是一个数组，其中的每一个元素是一个字典\n",
    "#字典中的元素是‘参数名’ : [参数范围](key为string，value为列表)\n",
    "param_grid = [\n",
    "    {\n",
    "        'weights': ['uniform'],\n",
    "        'n_neignbors': [i for i in range(1, 11)]\n",
    "    }\n",
    "    {\n",
    "        'weights': ['distance'],\n",
    "        'n_neignbors': [i for i in range(1, 11)]\n",
    "        'p': [i for i in range(1, 6)]\n",
    "    }\n",
    "]"
   ]
  }
 ],
 "metadata": {
  "kernelspec": {
   "display_name": "Python 3",
   "language": "python",
   "name": "python3"
  },
  "language_info": {
   "codemirror_mode": {
    "name": "ipython",
    "version": 3
   },
   "file_extension": ".py",
   "mimetype": "text/x-python",
   "name": "python",
   "nbconvert_exporter": "python",
   "pygments_lexer": "ipython3",
   "version": "3.7.1"
  }
 },
 "nbformat": 4,
 "nbformat_minor": 5
}
