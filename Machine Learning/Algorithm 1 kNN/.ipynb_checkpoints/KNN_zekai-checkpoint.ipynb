{
 "cells": [
  {
   "cell_type": "code",
   "execution_count": 1,
   "id": "absent-wrestling",
   "metadata": {},
   "outputs": [],
   "source": [
    "import numpy as np\n",
    "from math import sqrt\n",
    "from collections import Counter"
   ]
  },
  {
   "cell_type": "code",
   "execution_count": 17,
   "id": "comparable-specific",
   "metadata": {},
   "outputs": [],
   "source": [
    "from functools import reduce\n",
    "class KNNClassifier:\n",
    "    def __init__(self, k):\n",
    "        assert k >= 1, \"k must be valid\"\n",
    "        self.k = k\n",
    "        self._X_train = None\n",
    "        self._Y_train = None\n",
    "    \n",
    "    def fit(self, X_train, Y_train):\n",
    "        assert X_train.shape[0] == Y_train.shape[0], \\\n",
    "            \"The size of X_train and Y_train must be equal.\"\n",
    "        assert self.k <= X_train.shape[0], \\\n",
    "            \"The size of X_train must be at least k.\"\n",
    "        \n",
    "        self._X_train = X_train\n",
    "        self._Y_train = Y_train\n",
    "        return self\n",
    "    \n",
    "    def predict(self, X_predict):\n",
    "        assert self._X_train is not None and self._Y_train is not None, \\\n",
    "            \"must fit before predict\"\n",
    "        assert X_predict.shape[1] == self._X_train.shape[1], \\\n",
    "            \"the feature number of X_predict must be equal to X_train\"\n",
    "            \n",
    "        y_predict = [self._predict(x) for x in X_predict]\n",
    "        return np.array(y_predict)\n",
    "    \n",
    "    def _predict(self, x):\n",
    "        #给定单个待预测数据x，返回x的预测结果\n",
    "        assert x.shape[0] == self._X_train.shape[1], \\\n",
    "            \"the feature number of x must be equal to X_train\"\n",
    "            \n",
    "        distances = [sqrt(np.sum((x_train - x) ** 2)) for x_train in self._X_train]\n",
    "            \n",
    "        nearest = np.argsort(distances)\n",
    "            \n",
    "        topK_y = [self._Y_train[i] for i in nearest[:self.k]]\n",
    "        votes = Counter(topK_y)\n",
    "            \n",
    "        return votes.most_common(1)[0][0]\n",
    "      \n",
    "    def score(self, X_test, y_test):\n",
    "        #直接通过测试数据返回准确度，不再返回测试结果占用内存\n",
    "        hits = 0\n",
    "        is_hit = lambda x, y: 1 if self._predict(x) == y else 0\n",
    "        accumulator = lambda acc, val: acc+val\n",
    "        return reduce(accumulator, map(is_hit, X_test, y_test)) / len(y_test)\n",
    "    \n",
    "    def __repr__(self):\n",
    "        return \"KNN(k=%d)\" % self.k"
   ]
  },
  {
   "cell_type": "code",
   "execution_count": 14,
   "id": "mathematical-window",
   "metadata": {},
   "outputs": [],
   "source": []
  }
 ],
 "metadata": {
  "kernelspec": {
   "display_name": "Python 3",
   "language": "python",
   "name": "python3"
  },
  "language_info": {
   "codemirror_mode": {
    "name": "ipython",
    "version": 3
   },
   "file_extension": ".py",
   "mimetype": "text/x-python",
   "name": "python",
   "nbconvert_exporter": "python",
   "pygments_lexer": "ipython3",
   "version": "3.7.1"
  }
 },
 "nbformat": 4,
 "nbformat_minor": 5
}
